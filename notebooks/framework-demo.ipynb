{
 "cells": [
  {
   "cell_type": "markdown",
   "metadata": {},
   "source": [
    "# Demo: Oncotools"
   ]
  },
  {
   "cell_type": "markdown",
   "metadata": {},
   "source": [
    "### Import modules"
   ]
  },
  {
   "cell_type": "code",
   "execution_count": 1,
   "metadata": {
    "collapsed": true
   },
   "outputs": [],
   "source": [
    "from oncotools.connect import Database\n",
    "from oncotools.data_elements.dose_map import DoseMask\n",
    "\n",
    "import numpy as np"
   ]
  },
  {
   "cell_type": "markdown",
   "metadata": {},
   "source": [
    "### Connect to the database"
   ]
  },
  {
   "cell_type": "code",
   "execution_count": 2,
   "metadata": {
    "collapsed": true
   },
   "outputs": [],
   "source": [
    "db = Database(db='OncospaceHeadNeck', us='oncoguest', pw='0ncosp@ceGuest')"
   ]
  },
  {
   "cell_type": "markdown",
   "metadata": {},
   "source": [
    "### Patient ID and Patient representation ID\n",
    "\n",
    "Individual patients are identified by a patientID. \n",
    "\n",
    "Each patient has at least one patient representations. A patient representation corresponds to one scan (a certain geometry) and a set of structures from that one scan."
   ]
  },
  {
   "cell_type": "code",
   "execution_count": 3,
   "metadata": {
    "collapsed": true
   },
   "outputs": [],
   "source": [
    "# Map patient representation ID to patient ID\n",
    "patLUT = db.patient_representations.get_patient_id_LUT()\n",
    "\n",
    "# Map patient ID to patient representation ID(s)\n",
    "prepLUT = db.patient_representations.get_patient_rep_id_LUT()"
   ]
  },
  {
   "cell_type": "markdown",
   "metadata": {},
   "source": [
    "### Get a list of ROI's\n",
    "\n",
    "Get a list of all the ROI's in the database"
   ]
  },
  {
   "cell_type": "code",
   "execution_count": 4,
   "metadata": {
    "collapsed": false
   },
   "outputs": [
    {
     "data": {
      "text/plain": [
       "['2500_planning',\n",
       " '2cmring',\n",
       " '4cmring',\n",
       " '5000_planning',\n",
       " '5040_planning',\n",
       " '5400_planning',\n",
       " '5412_planning',\n",
       " '5425_planning',\n",
       " '5440_planning',\n",
       " '5520_planning',\n",
       " '5600_planning',\n",
       " '5760_planning',\n",
       " '5800_planning',\n",
       " '5810_planning',\n",
       " '5940_planning',\n",
       " '6000_planning',\n",
       " '6120_planning',\n",
       " '6125_planning',\n",
       " '6240_planning',\n",
       " '6290_planning',\n",
       " '6300_planning',\n",
       " '6400_planning',\n",
       " '6650_planning',\n",
       " '6720_planning',\n",
       " '6800_planning',\n",
       " '6960_planning',\n",
       " '6cmring',\n",
       " '7000_planning',\n",
       " '7040_planning',\n",
       " '7200_planning',\n",
       " '7208_planning',\n",
       " 'ajw_ctv1_6000',\n",
       " 'ajw_gtv',\n",
       " 'ajw_new_ctv1',\n",
       " 'ant_digastric',\n",
       " 'ar_ctv1_tumor+bilateral_neck_nodes',\n",
       " 'ar_gtv',\n",
       " 'ar_l_i-v_neck_nodes',\n",
       " 'ar_r_i-v_neck_nodes',\n",
       " 'auto_r_parotid',\n",
       " 'bone',\n",
       " 'brachial_plexus',\n",
       " 'brain',\n",
       " 'brain-ptv',\n",
       " 'brain2',\n",
       " 'brainstem',\n",
       " 'brainstem+5mm',\n",
       " 'brainstem-5mm',\n",
       " 'canal',\n",
       " 'carina',\n",
       " 'cerebellum',\n",
       " 'chiasm',\n",
       " 'comb_gtv',\n",
       " 'comb_gtv_n',\n",
       " 'comb_gtv_p',\n",
       " 'comb_lung',\n",
       " 'comb_parotids',\n",
       " 'comb_preop_gtv',\n",
       " 'combinded_submandibulars',\n",
       " 'combine_gtv',\n",
       " 'combined_gtv',\n",
       " 'combined_gtv_7000',\n",
       " 'combined_lacrimal',\n",
       " 'constr_muscle',\n",
       " 'constr_muscle_inferior',\n",
       " 'constr_muscle_middle',\n",
       " 'constr_muscle_pharyngeal',\n",
       " 'constr_muscle_pharyngeal_middle',\n",
       " 'constr_muscle_pharyngeal_upper',\n",
       " 'constr_muscle_superior',\n",
       " 'constrictors',\n",
       " 'cord',\n",
       " 'cord+10mm',\n",
       " 'cord+1cm',\n",
       " 'cord+20mm',\n",
       " 'cord+20mm_ant',\n",
       " 'cord+20mm_ant_rt',\n",
       " 'cord+20mm_right',\n",
       " 'cord+2mm',\n",
       " 'cord+4mm',\n",
       " 'cord+5mm',\n",
       " 'cord_avoidance',\n",
       " 'cord_exp',\n",
       " 'cordexp',\n",
       " 'cricoid',\n",
       " 'cricopharyngeal_muscle',\n",
       " 'ctv',\n",
       " 'ctv_0400',\n",
       " 'ctv_1000_cd',\n",
       " 'ctv_1440',\n",
       " 'ctv_1500_cd',\n",
       " 'ctv_2000',\n",
       " 'ctv_3000',\n",
       " 'ctv_3750',\n",
       " 'ctv_400_cd',\n",
       " 'ctv_4000',\n",
       " 'ctv_4500',\n",
       " 'ctv_500',\n",
       " 'ctv_5000',\n",
       " 'ctv_5040',\n",
       " 'ctv_5075',\n",
       " 'ctv_5130',\n",
       " 'ctv_5400',\n",
       " 'ctv_5400_revised',\n",
       " 'ctv_5425',\n",
       " 'ctv_5440',\n",
       " 'ctv_5445',\n",
       " 'ctv_5500',\n",
       " 'ctv_5520',\n",
       " 'ctv_5520_revised',\n",
       " 'ctv_5600',\n",
       " 'ctv_5720',\n",
       " 'ctv_5760',\n",
       " 'ctv_5800',\n",
       " 'ctv_5810',\n",
       " 'ctv_5880',\n",
       " 'ctv_5940',\n",
       " 'ctv_600_cd',\n",
       " 'ctv_6000',\n",
       " 'ctv_6000_revised',\n",
       " 'ctv_6120',\n",
       " 'ctv_6125',\n",
       " 'ctv_6240',\n",
       " 'ctv_6240_revised',\n",
       " 'ctv_6250',\n",
       " 'ctv_6290',\n",
       " 'ctv_63',\n",
       " 'ctv_6300',\n",
       " 'ctv_6300_revised',\n",
       " 'ctv_6400',\n",
       " 'ctv_6450',\n",
       " 'ctv_6450_revised',\n",
       " 'ctv_6525',\n",
       " 'ctv_66',\n",
       " 'ctv_6600',\n",
       " 'ctv_6720',\n",
       " 'ctv_6720_revised',\n",
       " 'ctv_6740',\n",
       " 'ctv_6800',\n",
       " 'ctv_6825',\n",
       " 'ctv_6900',\n",
       " 'ctv_6930',\n",
       " 'ctv_6960',\n",
       " 'ctv_6960_revised',\n",
       " 'ctv_6996',\n",
       " 'ctv_70',\n",
       " 'ctv_7000',\n",
       " 'ctv_7040',\n",
       " 'ctv_7140',\n",
       " 'ctv_7200',\n",
       " 'ctv_7200_revised',\n",
       " 'ctv_7208',\n",
       " 'ctv_7350',\n",
       " 'ctv_7420',\n",
       " 'ctv_7440',\n",
       " 'ctv_7480',\n",
       " 'ctv_7600',\n",
       " 'ctv_7680',\n",
       " 'ctv_esophagus',\n",
       " 'ctv_glottis',\n",
       " 'ctv_neck',\n",
       " 'ctv_primary',\n",
       " 'digastric_muscle',\n",
       " 'digastric_muscle_anterior',\n",
       " 'digastric_muscle_posterior',\n",
       " 'digastric_muscle_posterior_r',\n",
       " 'endolarynx',\n",
       " 'endolarynx-ptv',\n",
       " 'esoph_exp_4mm',\n",
       " 'esophagus',\n",
       " 'external',\n",
       " 'floor_of_mouth',\n",
       " 'foramen_ovale',\n",
       " 'gastric_muscle_anterior',\n",
       " 'genioglossus_muscle',\n",
       " 'geniohyoid_muscle',\n",
       " 'glottis',\n",
       " 'glottis-ptv',\n",
       " 'graft',\n",
       " 'gtv',\n",
       " 'gtv-grow_10mm',\n",
       " 'gtv_5760',\n",
       " 'gtv_7000',\n",
       " 'gtv_ax_lns',\n",
       " 'gtv_c_spine',\n",
       " 'gtv_c7',\n",
       " 'gtv_ct',\n",
       " 'gtv_fdg',\n",
       " 'gtv_l_n',\n",
       " 'gtv_larynx',\n",
       " 'gtv_m1',\n",
       " 'gtv_m2',\n",
       " 'gtv_m3',\n",
       " 'gtv_n',\n",
       " 'gtv_n_7000',\n",
       " 'gtv_node',\n",
       " 'gtv_nodes',\n",
       " 'gtv_npx',\n",
       " 'gtv_p',\n",
       " 'gtv_pre-op',\n",
       " 'gtv_preop',\n",
       " 'gtv_primary',\n",
       " 'gtv_primary_pyriform_sinus',\n",
       " 'gtv_primary_tonsil',\n",
       " 'gtv_r_n',\n",
       " 'gtv_rul',\n",
       " 'gtv_supraclav_ln',\n",
       " 'gtv_t_spine',\n",
       " 'gtv_tonsil',\n",
       " 'gtv_tumor',\n",
       " 'gtv_tumor_thrombus',\n",
       " 'heart',\n",
       " 'hyoglossus_muscle',\n",
       " 'hyoid_bone',\n",
       " 'hypopharynx',\n",
       " 'kidney',\n",
       " 'Kidney_L',\n",
       " 'Kidney_R',\n",
       " 'l_2700_planning',\n",
       " 'l_a_carotid',\n",
       " 'l_a_carotid_external',\n",
       " 'l_a_carotid_internal',\n",
       " 'l_acoustic',\n",
       " 'l_brachial_plexus',\n",
       " 'l_canthus',\n",
       " 'l_carotid',\n",
       " 'l_carotid_common',\n",
       " 'l_carotid_external',\n",
       " 'l_carotid_internal',\n",
       " 'l_choroid_ctv',\n",
       " 'l_choroid_ptv',\n",
       " 'l_cochlea',\n",
       " 'l_common_carotid',\n",
       " 'l_ctv',\n",
       " 'l_digastric_muscle_posterior',\n",
       " 'l_ear_inner',\n",
       " 'l_ear_middle',\n",
       " 'l_ear_outer',\n",
       " 'l_external_carotid',\n",
       " 'l_eye',\n",
       " 'l_fdg_pet_gtv_n',\n",
       " 'l_fdg_pet_gtv_p',\n",
       " 'l_femur',\n",
       " 'l_gtv',\n",
       " 'l_gtv_cheek',\n",
       " 'l_gtv_n',\n",
       " 'l_gtv_n1b',\n",
       " 'l_gtv_n2a',\n",
       " 'l_gtv_n2b',\n",
       " 'l_gtv_n3',\n",
       " 'l_gtv_n4',\n",
       " 'l_gtv_n5',\n",
       " 'l_gtv_p',\n",
       " 'l_gtv_primary',\n",
       " 'l_internal_carotid',\n",
       " 'l_lacrimal_gland',\n",
       " 'l_lens',\n",
       " 'l_ln_ib_v',\n",
       " 'l_lung',\n",
       " 'l_mandibular_ramus',\n",
       " 'l_masseter_muscle',\n",
       " 'l_masticator_space',\n",
       " 'l_masticatory',\n",
       " 'l_masticatory_muscle',\n",
       " 'l_masticatory_space',\n",
       " 'l_medial_pterygoid',\n",
       " 'l_middle_and_inner_ear',\n",
       " 'l_neck',\n",
       " 'l_neck_gtv',\n",
       " 'l_neck_nodes',\n",
       " 'l_optic_nerve',\n",
       " 'l_oral_commissure',\n",
       " 'l_orbit',\n",
       " 'l_parotid',\n",
       " 'l_parotid-ptv',\n",
       " 'l_parotid_scc',\n",
       " 'l_parotid_stem',\n",
       " 'l_posterior_digastric',\n",
       " 'l_preop_gtv_p',\n",
       " 'l_ptv_2700',\n",
       " 'l_ptv_3000',\n",
       " 'l_retina',\n",
       " 'l_retropharyngeal_level',\n",
       " 'l_rp_nodes',\n",
       " 'l_scm',\n",
       " 'l_sternocleidomastoid_muscle',\n",
       " 'l_sublingual',\n",
       " 'l_submandibular',\n",
       " 'l_submandibular-ptv',\n",
       " 'l_submandibular_2',\n",
       " 'l_temporal_lobe',\n",
       " 'l_tmjoint',\n",
       " 'larynx',\n",
       " 'larynx-ptv',\n",
       " 'larynx_for_edema',\n",
       " 'larynx_ptv',\n",
       " 'lips',\n",
       " 'liver',\n",
       " 'Lung_L',\n",
       " 'Lung_R',\n",
       " 'Lungs',\n",
       " 'mandible',\n",
       " 'mandible-ptv',\n",
       " 'mandible_ptv',\n",
       " 'mastoid_tip',\n",
       " 'midbrain',\n",
       " 'midline',\n",
       " 'midline_avoidance',\n",
       " 'midline_avoidance_revised',\n",
       " 'midline_endolarynx',\n",
       " 'mri_gtv_n',\n",
       " 'mri_gtv_p',\n",
       " 'mri_gtv_primary',\n",
       " 'mylohyoid_muscle',\n",
       " 'mylohyoid_sam',\n",
       " 'neopharynx',\n",
       " 'nodes',\n",
       " 'normal_tissue',\n",
       " 'oral-nasal_midline_avoidance',\n",
       " 'oral_avoidance',\n",
       " 'oral_cavity',\n",
       " 'oral_cavity-ptv',\n",
       " 'oral_mucosa',\n",
       " 'orbit_l_avoidanace',\n",
       " 'parotid-ptv',\n",
       " 'parotid_l-ptv',\n",
       " 'parotid_r-ptv',\n",
       " 'pet_gtv_n',\n",
       " 'pet_gtv_primary',\n",
       " 'pharyngeal_constrictors',\n",
       " 'pharynx_avoidance',\n",
       " 'pharynx_const',\n",
       " 'pituitary',\n",
       " 'planning_5440',\n",
       " 'planning_6125',\n",
       " 'planning_6650',\n",
       " 'posterior',\n",
       " 'postinduction_gtv_p',\n",
       " 'prechemo_gtv',\n",
       " 'prechemo_nodes',\n",
       " 'preop_gtv',\n",
       " 'preop_gtv_p',\n",
       " 'ptv',\n",
       " 'ptv_0400',\n",
       " 'ptv_1000_cd',\n",
       " 'ptv_1400',\n",
       " 'ptv_1440',\n",
       " 'ptv_1500_cd',\n",
       " 'ptv_1610',\n",
       " 'ptv_1680',\n",
       " 'ptv_2000',\n",
       " 'ptv_2240',\n",
       " 'ptv_2400',\n",
       " 'ptv_2500',\n",
       " 'ptv_3000',\n",
       " 'ptv_3750',\n",
       " 'ptv_400_cd',\n",
       " 'ptv_4000',\n",
       " 'ptv_4500',\n",
       " 'ptv_4800',\n",
       " 'ptv_4860',\n",
       " 'ptv_4950',\n",
       " 'ptv_4995',\n",
       " 'ptv_5000',\n",
       " 'ptv_5040',\n",
       " 'ptv_5075',\n",
       " 'ptv_5075_eval',\n",
       " 'ptv_5120',\n",
       " 'ptv_5130',\n",
       " 'ptv_5394',\n",
       " 'ptv_54_1cm_ring',\n",
       " 'ptv_54_3cm_ring',\n",
       " 'ptv_54_5cm_ring',\n",
       " 'ptv_54_exp_4mm',\n",
       " 'ptv_54_for_planning',\n",
       " 'ptv_5400',\n",
       " 'ptv_5400+3mm',\n",
       " 'ptv_5400_revised',\n",
       " 'ptv_5400mod',\n",
       " 'ptv_5412',\n",
       " 'ptv_5425',\n",
       " 'ptv_5425_mod',\n",
       " 'ptv_5440',\n",
       " 'ptv_5445',\n",
       " 'ptv_5500',\n",
       " 'ptv_5520',\n",
       " 'ptv_5520_revised',\n",
       " 'ptv_5600',\n",
       " 'ptv_5610',\n",
       " 'ptv_5700',\n",
       " 'ptv_5720',\n",
       " 'ptv_5750',\n",
       " 'ptv_5760',\n",
       " 'ptv_5800',\n",
       " 'ptv_5810',\n",
       " 'ptv_5810_eval',\n",
       " 'ptv_5880',\n",
       " 'ptv_5940',\n",
       " 'ptv_5984',\n",
       " 'ptv_5985',\n",
       " 'ptv_60_1cm_ring',\n",
       " 'ptv_60_exp_4mm',\n",
       " 'ptv_60_for_planning',\n",
       " 'ptv_600_cd',\n",
       " 'ptv_6000',\n",
       " 'ptv_6000-grow_5mm',\n",
       " 'ptv_6000_revised',\n",
       " 'ptv_6000_supraglottis',\n",
       " 'ptv_6000mod',\n",
       " 'ptv_6080',\n",
       " 'ptv_6120',\n",
       " 'ptv_6125',\n",
       " 'ptv_6200',\n",
       " 'ptv_6210',\n",
       " 'ptv_6240',\n",
       " 'ptv_6240_revised',\n",
       " 'ptv_6250',\n",
       " 'ptv_6290',\n",
       " 'ptv_63_1cm_ring',\n",
       " 'ptv_63_exp_4mm',\n",
       " 'ptv_63_for_planning',\n",
       " 'ptv_6300',\n",
       " 'ptv_6300_eval',\n",
       " 'ptv_6300_mod',\n",
       " 'ptv_6300_revised',\n",
       " 'ptv_6400',\n",
       " 'ptv_6450',\n",
       " 'ptv_6450_revised',\n",
       " 'ptv_6500',\n",
       " 'ptv_6525',\n",
       " 'ptv_66',\n",
       " 'ptv_6600',\n",
       " 'ptv_6600_revised',\n",
       " 'ptv_6650',\n",
       " 'ptv_6720',\n",
       " 'ptv_6720_revised',\n",
       " 'ptv_6740',\n",
       " 'ptv_6800',\n",
       " 'ptv_6825',\n",
       " 'ptv_6900',\n",
       " 'ptv_6930',\n",
       " 'ptv_6960',\n",
       " 'ptv_6960_revised',\n",
       " 'ptv_6996',\n",
       " 'ptv_7000',\n",
       " 'ptv_7000-grow_3mm',\n",
       " 'ptv_7000_eval',\n",
       " 'ptv_7020',\n",
       " 'ptv_7040',\n",
       " 'ptv_7140',\n",
       " 'ptv_720_cd',\n",
       " 'ptv_7200',\n",
       " 'ptv_7200_revised',\n",
       " 'ptv_7208',\n",
       " 'ptv_7350',\n",
       " 'ptv_7360',\n",
       " 'ptv_7420',\n",
       " 'ptv_7440',\n",
       " 'ptv_7480',\n",
       " 'ptv_7600',\n",
       " 'ptv_7680',\n",
       " 'ptv_880_cd',\n",
       " 'ptv_900_cd',\n",
       " 'ptv_glottis',\n",
       " 'ptv_planning_5425',\n",
       " 'ptv_planning_6125',\n",
       " 'ptv1',\n",
       " 'ptv2',\n",
       " 'ptv3',\n",
       " 'ptv56-61',\n",
       " 'ptv61-70',\n",
       " 'r_2700_planning',\n",
       " 'r_a_carotid',\n",
       " 'r_a_carotid_common',\n",
       " 'r_a_carotid_external',\n",
       " 'r_a_carotid_internal',\n",
       " 'r_acoustic',\n",
       " 'r_brachial_plexus',\n",
       " 'r_canthus',\n",
       " 'r_carotid',\n",
       " 'r_carotid_common',\n",
       " 'r_carotid_external',\n",
       " 'r_carotid_internal',\n",
       " 'r_choroid_ctv',\n",
       " 'r_choroid_ptv',\n",
       " 'r_cochlea',\n",
       " 'r_combined_gtv',\n",
       " 'r_common_carotid',\n",
       " 'r_ctv',\n",
       " 'r_ear_inner',\n",
       " 'r_ear_middle',\n",
       " 'r_ear_outer',\n",
       " 'r_external_carotid',\n",
       " 'r_eye',\n",
       " 'r_gtv',\n",
       " 'r_gtv_n',\n",
       " 'r_gtv_n1b',\n",
       " 'r_gtv_n2a',\n",
       " 'r_gtv_n2b',\n",
       " 'r_gtv_n3',\n",
       " 'r_gtv_n4',\n",
       " 'r_gtv_n5',\n",
       " 'r_gtv_p',\n",
       " 'r_gtv_primary',\n",
       " 'r_internal_carotid',\n",
       " 'r_lacrimal_gland',\n",
       " 'r_lens',\n",
       " 'r_ln_lv_ib_v',\n",
       " 'r_lung',\n",
       " 'r_masseter_muscle',\n",
       " 'r_masticator_space',\n",
       " 'r_masticatory',\n",
       " 'r_masticatory_muscle',\n",
       " 'r_masticatory_space',\n",
       " 'r_medial_pterygoid',\n",
       " 'r_middle_and_inner_ear',\n",
       " 'r_neck',\n",
       " 'r_neck_nodes',\n",
       " 'r_optic_nerve',\n",
       " 'r_oral_commissure',\n",
       " 'r_orbit',\n",
       " 'r_parotid',\n",
       " 'r_parotid-ptv',\n",
       " 'r_parotid_scc',\n",
       " 'r_parotid_stem',\n",
       " 'r_post_ct_gtv_p',\n",
       " 'r_posterior_digastric',\n",
       " 'r_pre_ct_gtv_p',\n",
       " 'r_ptv_2700',\n",
       " 'r_ptv_3000',\n",
       " 'r_retina',\n",
       " 'r_retropharyngeal_level',\n",
       " 'r_rp_nodes',\n",
       " 'r_scm',\n",
       " 'r_sternocleidomastoid_muscle',\n",
       " 'r_sublingual',\n",
       " 'r_submandibular',\n",
       " 'r_submandibular-ptv',\n",
       " 'r_temporal_lobe',\n",
       " 'r_tmjoint',\n",
       " 'retropharyngeal_nodes',\n",
       " 'ring_inner',\n",
       " 'ring_middle',\n",
       " 'ring_outer',\n",
       " 'roi_1',\n",
       " 'rtparlmt54',\n",
       " 'scar',\n",
       " 'scm',\n",
       " 'scv',\n",
       " 'sinonasal_avoidance',\n",
       " 'skin',\n",
       " 'soft_palate',\n",
       " 'spinal_canal',\n",
       " 'spinal_cord',\n",
       " 'sublingual',\n",
       " 'teeth',\n",
       " 'thrombus',\n",
       " 'thyroid',\n",
       " 'tonsil',\n",
       " 'trachea',\n",
       " 'tumor',\n",
       " 'vocal_cords']"
      ]
     },
     "execution_count": 4,
     "metadata": {},
     "output_type": "execute_result"
    }
   ],
   "source": [
    "db.regions_of_interest.get_roi_names()"
   ]
  },
  {
   "cell_type": "markdown",
   "metadata": {},
   "source": [
    "### Get a list of patients with certain ROIs"
   ]
  },
  {
   "cell_type": "code",
   "execution_count": 5,
   "metadata": {
    "collapsed": true
   },
   "outputs": [],
   "source": [
    "# Pick an ROI or a list of ROI's\n",
    "rois = ['l_parotid', 'r_parotid']"
   ]
  },
  {
   "cell_type": "code",
   "execution_count": 6,
   "metadata": {
    "collapsed": false
   },
   "outputs": [
    {
     "name": "stdout",
     "output_type": "stream",
     "text": [
      "1034 patient representations with given ROI's\n"
     ]
    }
   ],
   "source": [
    "# Get a list of patient representation's with all the ROI's we specified\n",
    "patient_list = db.regions_of_interest.get_patient_rep_ids_with_rois(rois)\n",
    "print len(patient_list), 'patient representations with given ROI\\'s'"
   ]
  },
  {
   "cell_type": "code",
   "execution_count": 7,
   "metadata": {
    "collapsed": true
   },
   "outputs": [],
   "source": [
    "# Let's pick one of these patients\n",
    "mypatient = patient_list[0]"
   ]
  },
  {
   "cell_type": "markdown",
   "metadata": {},
   "source": [
    "# The major data types:"
   ]
  },
  {
   "cell_type": "markdown",
   "metadata": {},
   "source": [
    "## Regions of Interest (ROIs)\n",
    "\n",
    "Binary masks of an anatomical structure or a contour from a patient scan\n",
    "The `Roi` class stores information for each ROI, and contains a `Mask` object.\n",
    "\n",
    "The image is stored as a 3D matrix with binary values (1 = in the structure, 0 = not in the structure)"
   ]
  },
  {
   "cell_type": "markdown",
   "metadata": {},
   "source": [
    "### Get ROI's or Masks for a set of structures\n",
    "\n",
    "`db.regions_of_interest.get_rois()` and `db.regions_of_interest.get_masks()` return:\n",
    "- a dictionary mapping ROI name to the Roi/Mask object\n",
    "- a list of ROI's that were not found"
   ]
  },
  {
   "cell_type": "code",
   "execution_count": 8,
   "metadata": {
    "collapsed": false
   },
   "outputs": [
    {
     "data": {
      "text/plain": [
       "{'l_parotid': <oncotools.data_elements.roi.Roi at 0x69c5240>,\n",
       " 'r_parotid': <oncotools.data_elements.roi.Roi at 0x72c4710>}"
      ]
     },
     "execution_count": 8,
     "metadata": {},
     "output_type": "execute_result"
    }
   ],
   "source": [
    "# Get certain ROI's for our patient\n",
    "myrois, _ = db.regions_of_interest.get_rois(mypatient, rois)\n",
    "myrois"
   ]
  },
  {
   "cell_type": "code",
   "execution_count": 9,
   "metadata": {
    "collapsed": false
   },
   "outputs": [
    {
     "data": {
      "text/plain": [
       "{'l_parotid': <oncotools.data_elements.image.Mask at 0x72b7208>,\n",
       " 'r_parotid': <oncotools.data_elements.image.Mask at 0x69c5198>}"
      ]
     },
     "execution_count": 9,
     "metadata": {},
     "output_type": "execute_result"
    }
   ],
   "source": [
    "# We can also get just the masks\n",
    "mymasks, _ = db.regions_of_interest.get_masks(mypatient, rois)\n",
    "mymasks"
   ]
  },
  {
   "cell_type": "code",
   "execution_count": 10,
   "metadata": {
    "collapsed": true
   },
   "outputs": [],
   "source": [
    "# Let's pick a mask\n",
    "amask = mymasks['l_parotid']"
   ]
  },
  {
   "cell_type": "markdown",
   "metadata": {},
   "source": [
    "Masks are images with the following fields"
   ]
  },
  {
   "cell_type": "code",
   "execution_count": 11,
   "metadata": {
    "collapsed": false
   },
   "outputs": [
    {
     "name": "stdout",
     "output_type": "stream",
     "text": [
      "Dimension:  3\n",
      "Origin:     [-29.94140625, -87.5414047241211, 52.75]\n",
      "End:        [29.941661335527897, -27.658337138593197, 93.84931570291519]\n",
      "Spacing:    [0.1171879991889, 0.1171879991889, 0.2999950051307678]\n",
      "Index:      [0.0, 0.0, 0.0]\n",
      "Size:       (512L, 512L, 138L) (voxels)\n",
      "Direction:  [1.0, 0.0, 0.0, 0.0, 1.0, 0.0]\n"
     ]
    }
   ],
   "source": [
    "print amask"
   ]
  },
  {
   "cell_type": "markdown",
   "metadata": {},
   "source": [
    "They are represented as a 3D bitmap. Note that the X and Z coordinates are reversed in the data matrix, so be careful directly indexing the data matrix."
   ]
  },
  {
   "cell_type": "code",
   "execution_count": 12,
   "metadata": {
    "collapsed": false
   },
   "outputs": [
    {
     "name": "stdout",
     "output_type": "stream",
     "text": [
      "(138L, 512L, 512L)\n"
     ]
    }
   ],
   "source": [
    "print amask.data.shape"
   ]
  },
  {
   "cell_type": "markdown",
   "metadata": {},
   "source": [
    "Masks can also be represented as a point cloud in physical coordinates"
   ]
  },
  {
   "cell_type": "code",
   "execution_count": 13,
   "metadata": {
    "collapsed": false
   },
   "outputs": [
    {
     "data": {
      "text/plain": [
       "array([[  8.49625748, -61.17410491,  66.24977523],\n",
       "       [  8.61344548, -61.17410491,  66.24977523],\n",
       "       [  8.73063348, -61.17410491,  66.24977523],\n",
       "       ..., \n",
       "       [  7.55875349, -59.88503692,  73.14966035],\n",
       "       [  7.67594149, -59.88503692,  73.14966035],\n",
       "       [  7.79312949, -59.88503692,  73.14966035]])"
      ]
     },
     "execution_count": 13,
     "metadata": {},
     "output_type": "execute_result"
    }
   ],
   "source": [
    "mymasks['l_parotid'].transform_to_point_cloud()"
   ]
  },
  {
   "cell_type": "markdown",
   "metadata": {},
   "source": [
    "## Dose Grids\n",
    "\n",
    "Dose grids store the dose that is delivered to a patient for treatment.\n",
    "\n",
    "Image data is stored as a 3D matrix with `float` values for the dose at each voxel"
   ]
  },
  {
   "cell_type": "markdown",
   "metadata": {},
   "source": [
    "### Get a dose grid\n",
    "\n",
    "`db.regions_of_interest.get_rois()` returns a dictionary mapping the dose grid name to the `Dose` object"
   ]
  },
  {
   "cell_type": "code",
   "execution_count": 14,
   "metadata": {
    "collapsed": false
   },
   "outputs": [
    {
     "data": {
      "text/plain": [
       "{'trial': <oncotools.data_elements.dose.Dose at 0x4b955f8>}"
      ]
     },
     "execution_count": 14,
     "metadata": {},
     "output_type": "execute_result"
    }
   ],
   "source": [
    "mydoses = db.radiotherapy_sessions.get_dose(mypatient)\n",
    "mydoses"
   ]
  },
  {
   "cell_type": "code",
   "execution_count": 15,
   "metadata": {
    "collapsed": true
   },
   "outputs": [],
   "source": [
    "# Let's pick a dose grid\n",
    "adose = mydoses['trial']"
   ]
  },
  {
   "cell_type": "markdown",
   "metadata": {},
   "source": [
    "## Dose Masks\n",
    "\n",
    "Dose masks map a dose grid onto an ROI. Since the dose grids and the ROI's are on different coordinate systems, this process involves a coordinate transformation and interpolation.\n",
    "\n",
    "Image data is stored as a 3D matrix with `float` values for the dose at each voxel in the ROI"
   ]
  },
  {
   "cell_type": "markdown",
   "metadata": {},
   "source": [
    "### Construct a dose mask object\n",
    "\n",
    "Specify a mask and a dose grid to construct a `DoseMask`"
   ]
  },
  {
   "cell_type": "code",
   "execution_count": 16,
   "metadata": {
    "collapsed": true
   },
   "outputs": [],
   "source": [
    "dm = DoseMask(amask, adose)"
   ]
  },
  {
   "cell_type": "code",
   "execution_count": 17,
   "metadata": {
    "collapsed": false
   },
   "outputs": [
    {
     "name": "stdout",
     "output_type": "stream",
     "text": [
      "Dimension:  3\n",
      "Origin:     [-29.94140625 -87.54140472  52.75      ]\n",
      "End:        [ 29.94166134 -27.65833714  93.8493157 ]\n",
      "Spacing:    [ 0.117188    0.117188    0.29999501]\n",
      "Index:      [ 0.  0.  0.]\n",
      "Size:       [512 512 138] (voxels)\n",
      "Direction:  [ 1.  0.  0.  0.  1.  0.]\n",
      "Max Dose:   6641.13908131\n",
      "Min Dose:   1379.36212036\n",
      "Mean Dose:  3648.98874391\n",
      "Std Dose:   1583.47037293\n",
      "\n"
     ]
    }
   ],
   "source": [
    "print dm"
   ]
  },
  {
   "cell_type": "markdown",
   "metadata": {},
   "source": [
    "### Dose masks have DVH data\n",
    "\n",
    "- Column 0: dose values in centigray (x-axis)\n",
    "- Column 1: fraction of volume (y-axis)"
   ]
  },
  {
   "cell_type": "code",
   "execution_count": 18,
   "metadata": {
    "collapsed": false
   },
   "outputs": [
    {
     "data": {
      "text/plain": [
       "array([[  1.37936212e+03,   1.00000000e+00],\n",
       "       [  1.40580321e+03,   9.99927468e-01],\n",
       "       [  1.43224430e+03,   9.99637340e-01],\n",
       "       [  1.45868539e+03,   9.99347211e-01],\n",
       "       [  1.48512648e+03,   9.98912019e-01],\n",
       "       [  1.51156757e+03,   9.97751505e-01],\n",
       "       [  1.53800866e+03,   9.95865671e-01],\n",
       "       [  1.56444975e+03,   9.93399579e-01],\n",
       "       [  1.59089084e+03,   9.89337782e-01],\n",
       "       [  1.61733193e+03,   9.83680279e-01],\n",
       "       [  1.64377302e+03,   9.77152390e-01],\n",
       "       [  1.67021411e+03,   9.69899180e-01],\n",
       "       [  1.69665520e+03,   9.62718503e-01],\n",
       "       [  1.72309629e+03,   9.54667440e-01],\n",
       "       [  1.74953738e+03,   9.45455864e-01],\n",
       "       [  1.77597847e+03,   9.35736563e-01],\n",
       "       [  1.80241956e+03,   9.25074345e-01],\n",
       "       [  1.82886065e+03,   9.14702256e-01],\n",
       "       [  1.85530174e+03,   9.03169653e-01],\n",
       "       [  1.88174284e+03,   8.92362370e-01],\n",
       "       [  1.90818393e+03,   8.80684703e-01],\n",
       "       [  1.93462502e+03,   8.69079568e-01],\n",
       "       [  1.96106611e+03,   8.57256836e-01],\n",
       "       [  1.98750720e+03,   8.45506637e-01],\n",
       "       [  2.01394829e+03,   8.35932400e-01],\n",
       "       [  2.04038938e+03,   8.25342714e-01],\n",
       "       [  2.06683047e+03,   8.14390368e-01],\n",
       "       [  2.09327156e+03,   8.04671067e-01],\n",
       "       [  2.11971265e+03,   7.94008849e-01],\n",
       "       [  2.14615374e+03,   7.84942337e-01],\n",
       "       [  2.17259483e+03,   7.75948357e-01],\n",
       "       [  2.19903592e+03,   7.66083992e-01],\n",
       "       [  2.22547701e+03,   7.56582288e-01],\n",
       "       [  2.25191810e+03,   7.46572858e-01],\n",
       "       [  2.27835919e+03,   7.37071154e-01],\n",
       "       [  2.30480028e+03,   7.27134257e-01],\n",
       "       [  2.33124137e+03,   7.17487488e-01],\n",
       "       [  2.35768246e+03,   7.07695655e-01],\n",
       "       [  2.38412355e+03,   6.98411547e-01],\n",
       "       [  2.41056464e+03,   6.88329586e-01],\n",
       "       [  2.43700573e+03,   6.78465221e-01],\n",
       "       [  2.46344682e+03,   6.69543773e-01],\n",
       "       [  2.48988791e+03,   6.59897004e-01],\n",
       "       [  2.51632900e+03,   6.50975557e-01],\n",
       "       [  2.54277009e+03,   6.41256256e-01],\n",
       "       [  2.56921118e+03,   6.33712918e-01],\n",
       "       [  2.59565227e+03,   6.26459708e-01],\n",
       "       [  2.62209336e+03,   6.18336114e-01],\n",
       "       [  2.64853445e+03,   6.10647712e-01],\n",
       "       [  2.67497554e+03,   6.03249438e-01],\n",
       "       [  2.70141663e+03,   5.95488504e-01],\n",
       "       [  2.72785772e+03,   5.88525422e-01],\n",
       "       [  2.75429881e+03,   5.81417277e-01],\n",
       "       [  2.78073990e+03,   5.73801407e-01],\n",
       "       [  2.80718099e+03,   5.66548198e-01],\n",
       "       [  2.83362208e+03,   5.60890694e-01],\n",
       "       [  2.86006317e+03,   5.54507870e-01],\n",
       "       [  2.88650426e+03,   5.48705302e-01],\n",
       "       [  2.91294536e+03,   5.41887285e-01],\n",
       "       [  2.93938645e+03,   5.35069268e-01],\n",
       "       [  2.96582754e+03,   5.28976572e-01],\n",
       "       [  2.99226863e+03,   5.24407050e-01],\n",
       "       [  3.01870972e+03,   5.19982592e-01],\n",
       "       [  3.04515081e+03,   5.14470153e-01],\n",
       "       [  3.07159190e+03,   5.08667585e-01],\n",
       "       [  3.09803299e+03,   5.04460724e-01],\n",
       "       [  3.12447408e+03,   4.99891202e-01],\n",
       "       [  3.15091517e+03,   4.94596359e-01],\n",
       "       [  3.17735626e+03,   4.90099369e-01],\n",
       "       [  3.20379735e+03,   4.86617828e-01],\n",
       "       [  3.23023844e+03,   4.82556031e-01],\n",
       "       [  3.25667953e+03,   4.79364619e-01],\n",
       "       [  3.28312062e+03,   4.75230289e-01],\n",
       "       [  3.30956171e+03,   4.70298107e-01],\n",
       "       [  3.33600280e+03,   4.64640603e-01],\n",
       "       [  3.36244389e+03,   4.60433742e-01],\n",
       "       [  3.38888498e+03,   4.57532458e-01],\n",
       "       [  3.41532607e+03,   4.54413578e-01],\n",
       "       [  3.44176716e+03,   4.51512294e-01],\n",
       "       [  3.46820825e+03,   4.48538478e-01],\n",
       "       [  3.49464934e+03,   4.44476681e-01],\n",
       "       [  3.52109043e+03,   4.39326902e-01],\n",
       "       [  3.54753152e+03,   4.36498150e-01],\n",
       "       [  3.57397261e+03,   4.32363821e-01],\n",
       "       [  3.60041370e+03,   4.28302024e-01],\n",
       "       [  3.62685479e+03,   4.25255676e-01],\n",
       "       [  3.65329588e+03,   4.22354392e-01],\n",
       "       [  3.67973697e+03,   4.20033365e-01],\n",
       "       [  3.70617806e+03,   4.16987017e-01],\n",
       "       [  3.73261915e+03,   4.13723072e-01],\n",
       "       [  3.75906024e+03,   4.09588743e-01],\n",
       "       [  3.78550133e+03,   4.06614927e-01],\n",
       "       [  3.81194242e+03,   4.03641111e-01],\n",
       "       [  3.83838351e+03,   4.00159571e-01],\n",
       "       [  3.86482460e+03,   3.97258287e-01],\n",
       "       [  3.89126569e+03,   3.94864728e-01],\n",
       "       [  3.91770678e+03,   3.92181040e-01],\n",
       "       [  3.94414788e+03,   3.89352288e-01],\n",
       "       [  3.97058897e+03,   3.86741133e-01],\n",
       "       [  3.99703006e+03,   3.83984913e-01],\n",
       "       [  4.02347115e+03,   3.80793501e-01],\n",
       "       [  4.04991224e+03,   3.77457025e-01],\n",
       "       [  4.07635333e+03,   3.74628273e-01],\n",
       "       [  4.10279442e+03,   3.72379778e-01],\n",
       "       [  4.12923551e+03,   3.70131283e-01],\n",
       "       [  4.15567660e+03,   3.67375063e-01],\n",
       "       [  4.18211769e+03,   3.65054036e-01],\n",
       "       [  4.20855878e+03,   3.63023138e-01],\n",
       "       [  4.23499987e+03,   3.60266918e-01],\n",
       "       [  4.26144096e+03,   3.57510698e-01],\n",
       "       [  4.28788205e+03,   3.55044607e-01],\n",
       "       [  4.31432314e+03,   3.52651048e-01],\n",
       "       [  4.34076423e+03,   3.50039893e-01],\n",
       "       [  4.36720532e+03,   3.47646334e-01],\n",
       "       [  4.39364641e+03,   3.45180242e-01],\n",
       "       [  4.42008750e+03,   3.43004279e-01],\n",
       "       [  4.44652859e+03,   3.40683252e-01],\n",
       "       [  4.47296968e+03,   3.38507289e-01],\n",
       "       [  4.49941077e+03,   3.35896134e-01],\n",
       "       [  4.52585186e+03,   3.32849786e-01],\n",
       "       [  4.55229295e+03,   3.30818887e-01],\n",
       "       [  4.57873404e+03,   3.28207732e-01],\n",
       "       [  4.60517513e+03,   3.26539494e-01],\n",
       "       [  4.63161622e+03,   3.24073402e-01],\n",
       "       [  4.65805731e+03,   3.22260100e-01],\n",
       "       [  4.68449840e+03,   3.19576413e-01],\n",
       "       [  4.71093949e+03,   3.17255386e-01],\n",
       "       [  4.73738058e+03,   3.14934358e-01],\n",
       "       [  4.76382167e+03,   3.11888010e-01],\n",
       "       [  4.79026276e+03,   3.08841662e-01],\n",
       "       [  4.81670385e+03,   3.07028360e-01],\n",
       "       [  4.84314494e+03,   3.04344673e-01],\n",
       "       [  4.86958603e+03,   3.01951113e-01],\n",
       "       [  4.89602712e+03,   2.99485022e-01],\n",
       "       [  4.92246821e+03,   2.97671720e-01],\n",
       "       [  4.94890930e+03,   2.95278161e-01],\n",
       "       [  4.97535040e+03,   2.91941684e-01],\n",
       "       [  5.00179149e+03,   2.89257997e-01],\n",
       "       [  5.02823258e+03,   2.86646841e-01],\n",
       "       [  5.05467367e+03,   2.84761007e-01],\n",
       "       [  5.08111476e+03,   2.82222383e-01],\n",
       "       [  5.10755585e+03,   2.78450714e-01],\n",
       "       [  5.13399694e+03,   2.74679045e-01],\n",
       "       [  5.16043803e+03,   2.71560165e-01],\n",
       "       [  5.18687912e+03,   2.68731414e-01],\n",
       "       [  5.21332021e+03,   2.65540001e-01],\n",
       "       [  5.23976130e+03,   2.61478204e-01],\n",
       "       [  5.26620239e+03,   2.58286792e-01],\n",
       "       [  5.29264348e+03,   2.55095380e-01],\n",
       "       [  5.31908457e+03,   2.49873069e-01],\n",
       "       [  5.34552566e+03,   2.46246464e-01],\n",
       "       [  5.37196675e+03,   2.40516429e-01],\n",
       "       [  5.39840784e+03,   2.35076521e-01],\n",
       "       [  5.42484893e+03,   2.30216871e-01],\n",
       "       [  5.45129002e+03,   2.25937477e-01],\n",
       "       [  5.47773111e+03,   2.20134910e-01],\n",
       "       [  5.50417220e+03,   2.14695003e-01],\n",
       "       [  5.53061329e+03,   2.10560673e-01],\n",
       "       [  5.55705438e+03,   2.05991151e-01],\n",
       "       [  5.58349547e+03,   2.01784290e-01],\n",
       "       [  5.60993656e+03,   1.97649960e-01],\n",
       "       [  5.63637765e+03,   1.93152970e-01],\n",
       "       [  5.66281874e+03,   1.88220788e-01],\n",
       "       [  5.68925983e+03,   1.83071009e-01],\n",
       "       [  5.71570092e+03,   1.78211359e-01],\n",
       "       [  5.74214201e+03,   1.72843983e-01],\n",
       "       [  5.76858310e+03,   1.67694205e-01],\n",
       "       [  5.79502419e+03,   1.61601509e-01],\n",
       "       [  5.82146528e+03,   1.56669326e-01],\n",
       "       [  5.84790637e+03,   1.49778777e-01],\n",
       "       [  5.87434746e+03,   1.44048742e-01],\n",
       "       [  5.90078855e+03,   1.37738449e-01],\n",
       "       [  5.92722964e+03,   1.29759919e-01],\n",
       "       [  5.95367073e+03,   1.21781388e-01],\n",
       "       [  5.98011182e+03,   1.13512729e-01],\n",
       "       [  6.00655292e+03,   1.04591282e-01],\n",
       "       [  6.03299401e+03,   9.53797055e-02],\n",
       "       [  6.05943510e+03,   8.69659824e-02],\n",
       "       [  6.08587619e+03,   7.84071952e-02],\n",
       "       [  6.11231728e+03,   7.06462610e-02],\n",
       "       [  6.13875837e+03,   6.20149416e-02],\n",
       "       [  6.16519946e+03,   5.37462827e-02],\n",
       "       [  6.19164055e+03,   4.48248350e-02],\n",
       "       [  6.21808164e+03,   3.82969464e-02],\n",
       "       [  6.24452273e+03,   3.17690578e-02],\n",
       "       [  6.27096382e+03,   2.64742148e-02],\n",
       "       [  6.29740491e+03,   2.11068398e-02],\n",
       "       [  6.32384600e+03,   1.66823820e-02],\n",
       "       [  6.35028709e+03,   1.28381809e-02],\n",
       "       [  6.37672818e+03,   1.00819613e-02],\n",
       "       [  6.40316927e+03,   7.90599840e-03],\n",
       "       [  6.42961036e+03,   5.87509973e-03],\n",
       "       [  6.45605145e+03,   4.56952201e-03],\n",
       "       [  6.48249254e+03,   3.19141220e-03],\n",
       "       [  6.50893363e+03,   2.24849496e-03],\n",
       "       [  6.53537472e+03,   1.45064191e-03],\n",
       "       [  6.56181581e+03,   9.42917241e-04],\n",
       "       [  6.58825690e+03,   6.52788859e-04],\n",
       "       [  6.61469799e+03,   2.17596286e-04],\n",
       "       [  6.64113908e+03,   0.00000000e+00]])"
      ]
     },
     "execution_count": 18,
     "metadata": {},
     "output_type": "execute_result"
    }
   ],
   "source": [
    "dm.dvh_data"
   ]
  },
  {
   "cell_type": "markdown",
   "metadata": {
    "collapsed": true
   },
   "source": [
    "### Extract certain points from a DVH"
   ]
  },
  {
   "cell_type": "markdown",
   "metadata": {},
   "source": [
    "**DX parameters**\n",
    "\n",
    "Get the dose to X percent of the structure. For example, D25 (a high dose) is the dose to 25% (0.25) of a structure"
   ]
  },
  {
   "cell_type": "code",
   "execution_count": 19,
   "metadata": {
    "collapsed": false
   },
   "outputs": [
    {
     "data": {
      "text/plain": [
       "5319.0845685062313"
      ]
     },
     "execution_count": 19,
     "metadata": {},
     "output_type": "execute_result"
    }
   ],
   "source": [
    "dm.get_dose_to_volume(0.25)"
   ]
  },
  {
   "cell_type": "markdown",
   "metadata": {},
   "source": [
    "**VX parameters**\n",
    "\n",
    "Get the volume that received a certain dose. For example, V55 is the fraction of the structure that received 5500 cGy"
   ]
  },
  {
   "cell_type": "code",
   "execution_count": 20,
   "metadata": {
    "collapsed": false
   },
   "outputs": [
    {
     "data": {
      "text/plain": [
       "0.21469500253862336"
      ]
     },
     "execution_count": 20,
     "metadata": {},
     "output_type": "execute_result"
    }
   ],
   "source": [
    "dm.get_volume_with_dose(5500)"
   ]
  },
  {
   "cell_type": "code",
   "execution_count": null,
   "metadata": {
    "collapsed": true
   },
   "outputs": [],
   "source": []
  }
 ],
 "metadata": {
  "kernelspec": {
   "display_name": "Python 2",
   "language": "python",
   "name": "python2"
  },
  "language_info": {
   "codemirror_mode": {
    "name": "ipython",
    "version": 2
   },
   "file_extension": ".py",
   "mimetype": "text/x-python",
   "name": "python",
   "nbconvert_exporter": "python",
   "pygments_lexer": "ipython2",
   "version": "2.7.13"
  }
 },
 "nbformat": 4,
 "nbformat_minor": 2
}
